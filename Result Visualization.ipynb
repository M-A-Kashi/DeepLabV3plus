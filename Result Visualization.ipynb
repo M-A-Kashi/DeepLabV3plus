{
 "cells": [
  {
   "cell_type": "code",
   "execution_count": null,
   "metadata": {},
   "outputs": [],
   "source": [
    "import pandas as pd\n",
    "import matplotlib.pyplot as plt"
   ]
  },
  {
   "cell_type": "code",
   "execution_count": null,
   "metadata": {},
   "outputs": [],
   "source": [
    "log_address = './log/depth/M0_all_MAPE/'"
   ]
  },
  {
   "cell_type": "code",
   "execution_count": null,
   "metadata": {},
   "outputs": [],
   "source": [
    "log_file = pd.read_pickle(log_address + 'visual_log.pkl')#depth_car_v1   baseline  baseline_normalized_input\n",
    "log_file.columns"
   ]
  },
  {
   "cell_type": "code",
   "execution_count": null,
   "metadata": {},
   "outputs": [],
   "source": [
    "feature_list = log_file['feature_list']\n",
    "label_list = log_file['label_list']\n",
    "end_of_epoch_results = [log_file[index] for index in log_file.columns[2:]]"
   ]
  },
  {
   "cell_type": "code",
   "execution_count": null,
   "metadata": {},
   "outputs": [],
   "source": [
    "batch_size=3"
   ]
  },
  {
   "cell_type": "code",
   "execution_count": null,
   "metadata": {},
   "outputs": [],
   "source": [
    "end_of_epoch_results[0][0][0].shape"
   ]
  },
  {
   "cell_type": "code",
   "execution_count": null,
   "metadata": {},
   "outputs": [],
   "source": [
    "from __future__ import print_function\n",
    "from ipywidgets import interact, interactive, fixed, interact_manual\n",
    "import ipywidgets as widgets\n",
    "\n",
    "from utils import visualizer as vis\n",
    "\n",
    "def f(num_slider, num_play, epoch_slider, epoch_play):\n",
    "    num_slider -=1\n",
    "    epoch_slider -=1\n",
    "    plt.figure(figsize=(21,7))\n",
    "    plt.subplot(1,3,1)\n",
    "    plt.imshow(feature_list[0][0][num_slider])\n",
    "    plt.subplot(1,3,2)\n",
    "    plt.imshow(label_list[0][0][num_slider,:,:,0])\n",
    "    plt.subplot(1,3,3)\n",
    "    plt.imshow(end_of_epoch_results[epoch_slider][0][num_slider, :, :, 0])\n",
    "#     plt.set_cmap('rainbow')\n",
    "    plt.set_cmap('prism')\n",
    "\n",
    "num_slider = widgets.IntSlider(description=\"Sample Num\", min=1, max=batch_size, continuous_update=False)\n",
    "num_play = widgets.Play(interval=1000,  min=1,    max=batch_size,    step=1,    description=\"Sample Num\",    disabled=False)\n",
    "widgets.jslink((num_slider, 'value'), (num_play, 'value'))\n",
    "\n",
    "epoch_slider = widgets.IntSlider(description=\"Epoch Num\", min=1, max=len(log_file.columns)-2, continuous_update=False)\n",
    "epoch_play = widgets.Play(interval=1000,  min=1, max=len(log_file.columns),    step=1,    description=\"Epoch Num\",    disabled=False)\n",
    "widgets.jslink((epoch_slider, 'value'), (epoch_play, 'value'))\n",
    "\n",
    "interact(f, \n",
    "         num_slider=num_slider,\n",
    "         num_play=num_play,\n",
    "         epoch_slider=epoch_slider,\n",
    "         epoch_play=epoch_play)"
   ]
  },
  {
   "cell_type": "code",
   "execution_count": null,
   "metadata": {},
   "outputs": [],
   "source": [
    "log_address = './log/depth/M2_all_MAPE/'"
   ]
  },
  {
   "cell_type": "code",
   "execution_count": null,
   "metadata": {},
   "outputs": [],
   "source": [
    "metric_log = pd.read_pickle(log_address + 'metric_log.pkl')#depth_car_v1   baseline  baseline_normalized_input\n",
    "metric_log.columns"
   ]
  },
  {
   "cell_type": "code",
   "execution_count": null,
   "metadata": {},
   "outputs": [],
   "source": [
    "import plotly.express as px\n",
    "fig = px.line(metric_log, x='epoch', y='val_MAPE') \n",
    "fig.show()"
   ]
  },
  {
   "cell_type": "code",
   "execution_count": null,
   "metadata": {},
   "outputs": [],
   "source": [
    "import plotly.express as px\n",
    "fig = px.line(metric_log, x='epoch', y='val_complete_depth_map_MAPE') \n",
    "fig.show()"
   ]
  },
  {
   "cell_type": "code",
   "execution_count": null,
   "metadata": {},
   "outputs": [],
   "source": [
    "import plotly.express as px\n",
    "import pandas as pd\n",
    "import matplotlib.pyplot as plt\n",
    "import numpy as np\n",
    "import time\n",
    "import plotly"
   ]
  },
  {
   "cell_type": "code",
   "execution_count": null,
   "metadata": {},
   "outputs": [],
   "source": [
    "d = pd.DataFrame(columns=['x', 'y'])"
   ]
  },
  {
   "cell_type": "code",
   "execution_count": null,
   "metadata": {},
   "outputs": [],
   "source": [
    "for i in range(100):\n",
    "    d.loc[i] = [i, np.sin(i*0.1)]\n",
    "    time.sleep(0.5)\n",
    "    fig = px.line(d, x='x', y='y')\n",
    "    plotly.io.write_html(fig, file=\"m.html\")"
   ]
  },
  {
   "cell_type": "markdown",
   "metadata": {},
   "source": [
    "# Evaluatation and Prediction"
   ]
  },
  {
   "cell_type": "code",
   "execution_count": null,
   "metadata": {},
   "outputs": [],
   "source": [
    "ref_net_name = 'VIPER'"
   ]
  },
  {
   "cell_type": "code",
   "execution_count": null,
   "metadata": {},
   "outputs": [],
   "source": [
    "# model.load_weights('./log/unet/' + ref_net_name + '/my_keras_model.h5')\n",
    "model.load_weights(address +'my_keras_model.h5')"
   ]
  },
  {
   "cell_type": "code",
   "execution_count": null,
   "metadata": {},
   "outputs": [],
   "source": [
    "steps = dsg_validation.size/dsg_validation.batch_size\n",
    "result = model.evaluate_generator(dsg_validation, steps=steps, verbose=1)"
   ]
  },
  {
   "cell_type": "code",
   "execution_count": null,
   "metadata": {},
   "outputs": [],
   "source": [
    "for i in result:\n",
    "    print(i)"
   ]
  },
  {
   "cell_type": "markdown",
   "metadata": {},
   "source": [
    "## Plot"
   ]
  },
  {
   "cell_type": "code",
   "execution_count": null,
   "metadata": {},
   "outputs": [],
   "source": [
    "dsg_validation.index= 59\n",
    "preview = iter(dsg_validation)\n",
    "feature_list, label_list=next(preview)\n",
    "model.evaluate(feature_list, label_list)"
   ]
  },
  {
   "cell_type": "code",
   "execution_count": null,
   "metadata": {},
   "outputs": [],
   "source": [
    "from __future__ import print_function\n",
    "from ipywidgets import interact, interactive, fixed, interact_manual\n",
    "import ipywidgets as widgets\n",
    "\n",
    "from utils import visualizer as vis\n",
    "\n",
    "options=['Simple plot', 'RGB point cloud', 'Segmented point cloud']\n",
    "\n",
    "def f(x):\n",
    "    vis.draw_samples(feature_list, label_list, x-1,\n",
    "                     feature_types=COMMON_SETTING['feature_types'], \n",
    "                     label_types=COMMON_SETTING['label_types'])\n",
    "    \n",
    "def f2(x):\n",
    "    vis.draw_point_cloud(label_list[0][x-1], feature_list[0][x-1])\n",
    "    \n",
    "def view_type_selector(y):\n",
    "    if y == options[0]:\n",
    "        interact(f, \n",
    "                 x=widgets.IntSlider(description=\"Sample Num\", min=1, max=dsg_train.batch_size, continuous_update=False))\n",
    "    if y == options[1]:\n",
    "        interact_manual(f2,\n",
    "                        x=widgets.IntSlider(description=\"Sample Num\", min=1, max=dsg_train.batch_size, continuous_update=False))\n",
    "    else:\n",
    "        print(y)\n",
    "        \n",
    "x=interact_manual(view_type_selector, y=widgets.Dropdown(description=\"View type:\", options=options))"
   ]
  },
  {
   "cell_type": "code",
   "execution_count": null,
   "metadata": {},
   "outputs": [],
   "source": [
    "i = 4\n",
    "plt.figure(figsize=(20,20))\n",
    "plt.set_cmap('hot')\n",
    "plt.subplot(1,3,1)\n",
    "plt.imshow(label_list[0][0, :, :, 0])\n",
    "plt.subplot(1,3,2)\n",
    "plt.imshow(predict[0, :, :, 0])\n",
    "plt.subplot(1,3,3)\n",
    "plt.imshow((label_list[0][0, :, :, 0]-predict[0, :, :, 0])/(label_list[0][0, :, :, 0]+0.0000001))\n"
   ]
  },
  {
   "cell_type": "code",
   "execution_count": null,
   "metadata": {},
   "outputs": [],
   "source": [
    "(label_list[0][0, :, :, 0]-predict[0, :, :, 0]).sum()"
   ]
  },
  {
   "cell_type": "code",
   "execution_count": null,
   "metadata": {},
   "outputs": [],
   "source": [
    "vis.draw_point_cloud(predict[0, :, :, 0], feature_list[0][0])"
   ]
  },
  {
   "cell_type": "code",
   "execution_count": null,
   "metadata": {},
   "outputs": [],
   "source": [
    "vis.draw_point_cloud(predict[0, :, :, 0], feature_list[0][0])"
   ]
  },
  {
   "cell_type": "code",
   "execution_count": null,
   "metadata": {},
   "outputs": [],
   "source": [
    "vis.draw_point_cloud(label_list[0][0, :, :, 0], feature_list[0][0])"
   ]
  },
  {
   "cell_type": "code",
   "execution_count": null,
   "metadata": {},
   "outputs": [],
   "source": [
    "import matplotlib.pyplot as plt\n",
    "import numpy as np\n",
    "import open3d as o3d"
   ]
  },
  {
   "cell_type": "code",
   "execution_count": null,
   "metadata": {},
   "outputs": [],
   "source": [
    "image =  feature_list[0][0]\n",
    "depth = predict[0, :, :, 0]*100"
   ]
  },
  {
   "cell_type": "code",
   "execution_count": null,
   "metadata": {},
   "outputs": [],
   "source": [
    "a = o3d.geometry.Image(image)  #pylint: disable=no-member\n",
    "b = o3d.geometry.Image(depth)  #pylint: disable=no-member\n",
    "rgbd_image = o3d.geometry.RGBDImage.create_from_color_and_depth(a, b)  #pylint: disable=no-member\n",
    "pcd = o3d.geometry.PointCloud.create_from_rgbd_image(  #pylint: disable=no-member\n",
    "    rgbd_image,\n",
    "    o3d.camera.PinholeCameraIntrinsic(  #pylint: disable=no-member\n",
    "        o3d.camera.PinholeCameraIntrinsicParameters.PrimeSenseDefault))  #pylint: disable=no-member\n",
    "\n",
    "# rgb_vector = np.reshape(image, [-1, 3])\n",
    "# pcd.colors = o3d.utility.Vector3dVector(rgb_vector)  #pylint: disable=no-member\n",
    "o3d.visualization.draw_geometries([pcd])  #pylint: disable=no-member"
   ]
  },
  {
   "cell_type": "markdown",
   "metadata": {},
   "source": [
    "# Plotly"
   ]
  },
  {
   "cell_type": "code",
   "execution_count": null,
   "metadata": {},
   "outputs": [],
   "source": [
    "import pandas as pd\n",
    "import plotly.express as px"
   ]
  },
  {
   "cell_type": "code",
   "execution_count": null,
   "metadata": {},
   "outputs": [],
   "source": [
    "import plotly"
   ]
  },
  {
   "cell_type": "code",
   "execution_count": null,
   "metadata": {},
   "outputs": [],
   "source": [
    "deptmap = label_list[0][0][:,:,0]"
   ]
  },
  {
   "cell_type": "code",
   "execution_count": null,
   "metadata": {},
   "outputs": [],
   "source": [
    "x_l = []\n",
    "y_l = []\n",
    "z_l = []\n",
    "c_l = []\n",
    "s_l = []\n",
    "for x in range(deptmap.shape[0]):\n",
    "    for y in range(deptmap.shape[1]):\n",
    "        x_l.append(x)\n",
    "        y_l.append(y)\n",
    "        z_l.append(deptmap[x,y]*1000)\n",
    "        c_l.append(deptmap[x,y]*1000)\n",
    "        s_l.append(0.1)\n",
    "df = pd.DataFrame({'x':x_l, 'y':y_l, 'z':z_l,  'color':c_l, 'size':s_l})"
   ]
  },
  {
   "cell_type": "code",
   "execution_count": null,
   "metadata": {},
   "outputs": [],
   "source": [
    "fig = px.scatter(df, x='y', y='x',color='color', size='size', hover_name='color',  render_mode='webgl')"
   ]
  },
  {
   "cell_type": "code",
   "execution_count": null,
   "metadata": {},
   "outputs": [],
   "source": [
    "# iris = px.data.iris()\n",
    "fig = px.scatter_3d(df, x='x', y='y', z='z', color='color', size='size')\n",
    "# fig = px.scatter(df, x='y', y='x',color='color', size='size', hover_name='color',  render_mode='webgl')\n",
    "fig.data[0].marker.line.width=0\n",
    "fig.data[0].marker.size = 1\n",
    "fig.layout.yaxis.autorange='reversed'\n",
    "fig.show()"
   ]
  },
  {
   "cell_type": "code",
   "execution_count": null,
   "metadata": {},
   "outputs": [],
   "source": [
    "plotly.io.write_html(fig, file=\"m.html\")"
   ]
  },
  {
   "cell_type": "markdown",
   "metadata": {},
   "source": [
    "# Test"
   ]
  },
  {
   "cell_type": "code",
   "execution_count": null,
   "metadata": {},
   "outputs": [],
   "source": [
    "d = label_list[0][0][0,:,:,0]"
   ]
  },
  {
   "cell_type": "code",
   "execution_count": null,
   "metadata": {},
   "outputs": [],
   "source": [
    "plt.imshow(d)"
   ]
  },
  {
   "cell_type": "code",
   "execution_count": null,
   "metadata": {},
   "outputs": [],
   "source": [
    "x=d==1000"
   ]
  },
  {
   "cell_type": "code",
   "execution_count": null,
   "metadata": {},
   "outputs": [],
   "source": [
    "d.size"
   ]
  },
  {
   "cell_type": "code",
   "execution_count": null,
   "metadata": {},
   "outputs": [],
   "source": [
    "h = np.histogram(d, 10)"
   ]
  },
  {
   "cell_type": "code",
   "execution_count": null,
   "metadata": {},
   "outputs": [],
   "source": [
    "plt.hist(d.flatten(), 10)"
   ]
  },
  {
   "cell_type": "code",
   "execution_count": null,
   "metadata": {},
   "outputs": [],
   "source": [
    "h[0]"
   ]
  },
  {
   "cell_type": "code",
   "execution_count": null,
   "metadata": {},
   "outputs": [],
   "source": [
    "h[1]"
   ]
  },
  {
   "cell_type": "code",
   "execution_count": null,
   "metadata": {},
   "outputs": [],
   "source": [
    "plt.bar(h[1][1:], h[0])"
   ]
  }
 ],
 "metadata": {
  "kernelspec": {
   "display_name": "Python 3",
   "language": "python",
   "name": "python3"
  },
  "language_info": {
   "codemirror_mode": {
    "name": "ipython",
    "version": 3
   },
   "file_extension": ".py",
   "mimetype": "text/x-python",
   "name": "python",
   "nbconvert_exporter": "python",
   "pygments_lexer": "ipython3",
   "version": "3.7.5"
  }
 },
 "nbformat": 4,
 "nbformat_minor": 4
}
