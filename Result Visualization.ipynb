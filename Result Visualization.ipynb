{
 "cells": [
  {
   "cell_type": "code",
   "execution_count": null,
   "metadata": {},
   "outputs": [],
   "source": [
    "from __future__ import print_function\n",
    "\n",
    "import os\n",
    "import time\n",
    "\n",
    "import ipywidgets as widgets\n",
    "import matplotlib.gridspec as gridspec\n",
    "import matplotlib.pyplot as plt\n",
    "import numpy as np\n",
    "import pandas as pd\n",
    "import plotly.express as px\n",
    "import yaml\n",
    "from IPython.display import display\n",
    "from ipywidgets import (AppLayout, fixed, interact, interact_manual,\n",
    "                        interactive, interactive_output)\n",
    "\n",
    "from utils import data_importer, fcrn, metrics\n",
    "from utils import model as md\n",
    "from utils import unet\n",
    "from utils import visualizer as vis"
   ]
  },
  {
   "cell_type": "markdown",
   "metadata": {},
   "source": [
    "# Log Visualizations"
   ]
  },
  {
   "cell_type": "code",
   "execution_count": null,
   "metadata": {},
   "outputs": [],
   "source": [
    "metric_list = ['MAPE', 'MSPE', 'RMSE', 'RMSELog', 'Log10', 'delta_threshold_1', 'delta_threshold_2', 'delta_threshold_3', 'SILog']\n",
    "dashboard_list = ['Metrics Dashboard', 'Samples Dashboard']\n",
    "\n",
    "\n",
    "\n",
    "def dashboard_sellector(dashboard_type, log_dir, table_dir):\n",
    "    if dashboard_type == 'Metrics Dashboard':\n",
    "        vis.MetricsDashboard(log_dir, metric_list)()\n",
    "    if dashboard_type == 'Samples Dashboard':\n",
    "        vis.SamplesDashboard(log_dir, table_dir)()\n",
    "    \n",
    "        \n",
    "dashboard_type = widgets.Dropdown(\n",
    "    options=dashboard_list,\n",
    "    description='Dashboard Type:',\n",
    "    style = {'description_width': 'initial'}\n",
    "    )\n",
    "\n",
    "log_dir = widgets.Text(\n",
    "    value='./log/SynthiaSf_depth',\n",
    "    placeholder='Insert log direction',\n",
    "    description='Log Direction:',\n",
    "                    )\n",
    "\n",
    "table_dir = widgets.Text(\n",
    "    value='./utils/labels.csv',\n",
    "    placeholder='Insert table direction',\n",
    "    description='Lable-table Direction:',\n",
    "                    )\n",
    "\n",
    "general_widgets = widgets.HBox([dashboard_type, log_dir, table_dir],\n",
    "                              layout = {'border': '1px solid white', 'justify_content': 'space-between'})\n",
    "output = interactive_output(dashboard_sellector, {'dashboard_type': dashboard_type, 'log_dir': log_dir, 'table_dir':table_dir})\n",
    "display(general_widgets, output)"
   ]
  },
  {
   "cell_type": "markdown",
   "metadata": {},
   "source": [
    "# Plotly"
   ]
  },
  {
   "cell_type": "code",
   "execution_count": null,
   "metadata": {},
   "outputs": [],
   "source": [
    "import pandas as pd\n",
    "import plotly.express as px"
   ]
  },
  {
   "cell_type": "code",
   "execution_count": null,
   "metadata": {},
   "outputs": [],
   "source": [
    "import plotly"
   ]
  },
  {
   "cell_type": "code",
   "execution_count": null,
   "metadata": {},
   "outputs": [],
   "source": [
    "deptmap = label_list[0][0][:,:,0]"
   ]
  },
  {
   "cell_type": "code",
   "execution_count": null,
   "metadata": {},
   "outputs": [],
   "source": [
    "x_l = []\n",
    "y_l = []\n",
    "z_l = []\n",
    "c_l = []\n",
    "s_l = []\n",
    "for x in range(deptmap.shape[0]):\n",
    "    for y in range(deptmap.shape[1]):\n",
    "        x_l.append(x)\n",
    "        y_l.append(y)\n",
    "        z_l.append(deptmap[x,y]*1000)\n",
    "        c_l.append(deptmap[x,y]*1000)\n",
    "        s_l.append(0.1)\n",
    "df = pd.DataFrame({'x':x_l, 'y':y_l, 'z':z_l,  'color':c_l, 'size':s_l})"
   ]
  },
  {
   "cell_type": "code",
   "execution_count": null,
   "metadata": {},
   "outputs": [],
   "source": [
    "fig = px.scatter(df, x='y', y='x',color='color', size='size', hover_name='color',  render_mode='webgl')"
   ]
  },
  {
   "cell_type": "code",
   "execution_count": null,
   "metadata": {},
   "outputs": [],
   "source": [
    "# iris = px.data.iris()\n",
    "fig = px.scatter_3d(df, x='x', y='y', z='z', color='color', size='size')\n",
    "# fig = px.scatter(df, x='y', y='x',color='color', size='size', hover_name='color',  render_mode='webgl')\n",
    "fig.data[0].marker.line.width=0\n",
    "fig.data[0].marker.size = 1\n",
    "fig.layout.yaxis.autorange='reversed'\n",
    "fig.show()"
   ]
  },
  {
   "cell_type": "code",
   "execution_count": null,
   "metadata": {},
   "outputs": [],
   "source": [
    "plotly.io.write_html(fig, file=\"m.html\")"
   ]
  },
  {
   "cell_type": "markdown",
   "metadata": {},
   "source": [
    "# Dataset And Model' Output Histogram"
   ]
  },
  {
   "cell_type": "code",
   "execution_count": null,
   "metadata": {},
   "outputs": [],
   "source": [
    "COMMON_SETTING = {\n",
    "    'table_address' : \"./utils/labels.csv\",\n",
    "    'batch_size' : 1, \n",
    "    'output_shape' : (480, 640),\n",
    "    'data_type' : 'float32',\n",
    "    'feature_types' : ['image', 'segmentation' ],\n",
    "    'label_types' : ['depth'],# ['depth'], #'semantic_depth'\n",
    "    'class_ids' : 'all'#[55,]#data_importer.COMMON_LABEL_IDS.copy()#\n",
    "}\n",
    "\n",
    "############################ SYNTHIA_SF_SETTINGS ########################################\n",
    "address = 'C:/Users/KINEMATIX/Amin/Datasets/SYNTHIA-SF'#'D:/Library/Datasets/SYNTHIA-SF'#\n",
    "dsg = data_importer.SynthiaSf\n",
    "usage_range_train = (0, 1)\n",
    "usage_range_validation = (0.75, 1)\n",
    "usage_range_test = (0.75, 1)\n",
    "\n",
    "dsg_train = dsg(**COMMON_SETTING,\n",
    "                dataset_dir=address,\n",
    "                usage='train',\n",
    "                usage_range=usage_range_train)\n",
    "\n",
    "dsg_validation = dsg(**COMMON_SETTING,\n",
    "                    dataset_dir=address,\n",
    "                    usage='validation',\n",
    "                    usage_range=usage_range_validation)"
   ]
  },
  {
   "cell_type": "code",
   "execution_count": null,
   "metadata": {},
   "outputs": [],
   "source": [
    "dsg_train.index = dsg_train.start_index\n",
    "preview = iter(dsg_train)\n",
    "size = int(dsg_train.size/dsg_train.batch_size)\n",
    "\n",
    "try:\n",
    "    del(train_set_hist)\n",
    "except NameError:\n",
    "    pass\n",
    "\n",
    "nn_mean = 0\n",
    "n_mean  = 0\n",
    "\n",
    "for i in range(size):\n",
    "    feature_list, label_list=next(preview)\n",
    "    depth_data = label_list[0][0, :, :, 0]\n",
    "    hist = np.histogram(depth_data, np.arange(0,1050,50))[0]\n",
    "    try:\n",
    "        train_set_hist = hist + train_set_hist\n",
    "    except NameError:\n",
    "        train_set_hist = hist\n",
    "        \n",
    "    nn_mean_error +=  abs(result[0, :, :, 0] - depth_data).mean()/size\n",
    "    n_mean_error  += abs(result[0, :, :, 0] - depth_data/1000).mean()/size\n",
    "    print(i/size*100)\n",
    "        \n",
    "train_set_hist_bins = np.histogram(depth_data, 20)[1]"
   ]
  },
  {
   "cell_type": "code",
   "execution_count": null,
   "metadata": {},
   "outputs": [],
   "source": [
    "num_of_classes = dsg_train.class_ids.size\n",
    "model = fcrn.model(img_shape=(480,640,3))\n",
    "model.compile(optimizer=\"adam\", loss=metrics.MAPE())"
   ]
  },
  {
   "cell_type": "code",
   "execution_count": null,
   "metadata": {},
   "outputs": [],
   "source": [
    "preview = iter(dsg_train)\n",
    "feature_list, label_list=next(preview)\n",
    "result = model.predict(feature_list)"
   ]
  },
  {
   "cell_type": "markdown",
   "metadata": {},
   "source": [
    "#### Normalized"
   ]
  },
  {
   "cell_type": "code",
   "execution_count": null,
   "metadata": {},
   "outputs": [],
   "source": [
    "predict_hist = np.histogram(result, bins=np.arange(0,3,0.05))"
   ]
  },
  {
   "cell_type": "code",
   "execution_count": null,
   "metadata": {},
   "outputs": [],
   "source": [
    "depth_label = ['  Depth Labels' for _ in range(59)]\n",
    "d = np.append(train_set_hist, np.zeros(39))\n",
    "data1 = pd.DataFrame({'depth': predict_hist[1][1:], 'percent': d*100/d.sum(), 'label': depth_label})\n",
    "\n",
    "depth_label = ['  Prediction' for _ in range(59)]\n",
    "data2 = pd.DataFrame({'depth': predict_hist[1][1:], 'percent': predict_hist[0]*100/predict_hist[0].sum(), 'label': depth_label})\n",
    "\n",
    "a = data2.append(data1)\n",
    "a.index = np.arange(118)"
   ]
  },
  {
   "cell_type": "code",
   "execution_count": null,
   "metadata": {},
   "outputs": [],
   "source": [
    "fig = px.bar(a, x='depth', y='percent',  log_y=True, height=500, width=800,  color='label',barmode='overlay', labels={'label':\"\"}, \n",
    "       title=\"Comparison of Untrained FCRN Model's Output and Normalized Depth Maps in Histogram\")\n",
    "fig.write_html(\"Comparison of Untrained FCRN Model's Output and Normalized Depth Maps in Histogram.html\")\n",
    "fig"
   ]
  },
  {
   "cell_type": "code",
   "execution_count": null,
   "metadata": {},
   "outputs": [],
   "source": [
    "predict_mean = (predict_hist[0]*predict_hist[1][1:]).sum()/predict_hist[0].sum()"
   ]
  },
  {
   "cell_type": "code",
   "execution_count": null,
   "metadata": {},
   "outputs": [],
   "source": [
    "depth_maps_mean = (d*predict_hist[1][1:]).sum()/d.sum()"
   ]
  },
  {
   "cell_type": "code",
   "execution_count": null,
   "metadata": {},
   "outputs": [],
   "source": [
    "abs(predict_mean - depth_maps_mean) / n_mean_error"
   ]
  },
  {
   "cell_type": "code",
   "execution_count": null,
   "metadata": {},
   "outputs": [],
   "source": [
    "n_mean_error"
   ]
  },
  {
   "cell_type": "markdown",
   "metadata": {},
   "source": [
    "#### Non-normalized"
   ]
  },
  {
   "cell_type": "code",
   "execution_count": null,
   "metadata": {},
   "outputs": [],
   "source": [
    "predict_hist = np.histogram(result, bins=train_set_hist_bins)"
   ]
  },
  {
   "cell_type": "code",
   "execution_count": null,
   "metadata": {},
   "outputs": [],
   "source": [
    "depth_label = ['  Depth Labels' for _ in range(20)]\n",
    "data1 = pd.DataFrame({'depth': train_set_hist_bins[1:], 'percent': train_set_hist*100/train_set_hist.sum(), 'label': depth_label})\n",
    "\n",
    "depth_label = ['  Prediction' for _ in range(20)]\n",
    "data2 = pd.DataFrame({'depth': train_set_hist_bins[1:], 'percent': predict_hist[0]*100/predict_hist[0].sum(), 'label': depth_label})\n",
    "\n",
    "a = data2.append(data1)\n",
    "a.index = np.arange(40)"
   ]
  },
  {
   "cell_type": "code",
   "execution_count": null,
   "metadata": {},
   "outputs": [],
   "source": [
    "fig = px.bar(a, x='depth', y='percent',  log_y=True, height=500, width=800,  color='label',barmode='overlay', labels={'label':\"\"}, \n",
    "       title=\"Comparison of Untrained FCRN Model's Output and Non-normalized Depth Maps in Histogram\")\n",
    "fig.write_html(\"Comparison of Untrained FCRN Model's Output and Non-normalized Depth Maps in Histogram.html\")\n",
    "fig"
   ]
  },
  {
   "cell_type": "code",
   "execution_count": null,
   "metadata": {},
   "outputs": [],
   "source": [
    "predict_mean = (predict_hist[0]*predict_hist[1][1:]).sum()/predict_hist[0].sum()"
   ]
  },
  {
   "cell_type": "code",
   "execution_count": null,
   "metadata": {},
   "outputs": [],
   "source": [
    "depth_maps_mean = (train_set_hist*predict_hist[1][1:]).sum()/train_set_hist.sum()"
   ]
  },
  {
   "cell_type": "code",
   "execution_count": null,
   "metadata": {},
   "outputs": [],
   "source": [
    "abs(predict_mean - depth_maps_mean) / nn_mean_error"
   ]
  },
  {
   "cell_type": "code",
   "execution_count": null,
   "metadata": {},
   "outputs": [],
   "source": [
    "nn_mean_error"
   ]
  }
 ],
 "metadata": {
  "kernelspec": {
   "display_name": "Python 3",
   "language": "python",
   "name": "python3"
  },
  "language_info": {
   "codemirror_mode": {
    "name": "ipython",
    "version": 3
   },
   "file_extension": ".py",
   "mimetype": "text/x-python",
   "name": "python",
   "nbconvert_exporter": "python",
   "pygments_lexer": "ipython3",
   "version": "3.7.5"
  }
 },
 "nbformat": 4,
 "nbformat_minor": 4
}
