{
 "cells": [
  {
   "cell_type": "markdown",
   "metadata": {},
   "source": [
    "# Model Training by keras"
   ]
  },
  {
   "cell_type": "code",
   "execution_count": null,
   "metadata": {},
   "outputs": [],
   "source": [
    "import data_importer\n",
    "import model as md\n",
    "import tensorflow as tf\n",
    "import matplotlib.pyplot as plt\n",
    "import numpy as np"
   ]
  },
  {
   "cell_type": "code",
   "execution_count": null,
   "metadata": {},
   "outputs": [],
   "source": [
    "tf.keras.backend.set_floatx('float32')\n",
    "inputs = tf.keras.Input(shape=(480,640,3))\n",
    "model = md.deep_lab_v3(inputs=inputs)\n",
    "# model.summary()"
   ]
  },
  {
   "cell_type": "code",
   "execution_count": null,
   "metadata": {},
   "outputs": [],
   "source": [
    "model.compile(optimizer=\"adam\",\n",
    "              loss='sparse_categorical_crossentropy',\n",
    "              metrics=['accuracy'])"
   ]
  },
  {
   "cell_type": "markdown",
   "metadata": {},
   "source": [
    "## Imporing Dataset"
   ]
  },
  {
   "cell_type": "code",
   "execution_count": null,
   "metadata": {},
   "outputs": [],
   "source": [
    "import data_importer\n",
    "SYNTHIA_train = data_importer.NewSynthiaSf('D:/Library/Datasets/SYNTHIA-SF/',label_type='sparse_segmentation', usage='train',\n",
    "                                    batch_size=1, repeater=True, shuffle=True, output_shape=(480, 640), data_type=0, ratio=(0.7, 0.1))\n",
    "SYNTHIA_validation = data_importer.NewSynthiaSf('D:/Library/Datasets/SYNTHIA-SF/',label_type='sparse_segmentation', usage='validation',\n",
    "                                    batch_size=1, repeater=True, shuffle=True, output_shape=(480, 640), data_type=0, ratio=(0.7, 0.1))\n",
    "SYNTHIA_test = data_importer.NewSynthiaSf('D:/Library/Datasets/SYNTHIA-SF/',label_type='sparse_segmentation', usage='test',\n",
    "                                    batch_size=1, repeater=True, shuffle=True, output_shape=(480, 640), data_type=0, ratio=(0.7, 0.1))\n",
    "preview = iter(SYNTHIA_train)\n",
    "a,b=next(preview)\n",
    "plt.figure(figsize=(20,40))\n",
    "plt.subplot(1,2,1)\n",
    "plt.imshow(np.float32(a[0]))\n",
    "plt.subplot(1,2,2)\n",
    "plt.imshow(b[0,:,:,0])\n",
    "plt.viridis()\n",
    "\n",
    "print(a.dtype, b.dtype, a.shape, b.shape)"
   ]
  },
  {
   "cell_type": "code",
   "execution_count": null,
   "metadata": {},
   "outputs": [],
   "source": [
    "address = './log/6/'\n",
    "train_step = SYNTHIA_train.end_index - SYNTHIA_train.start_index\n",
    "validation_steps = SYNTHIA_validation.end_index - SYNTHIA_validation.start_index\n",
    "callbacks = [\n",
    "    tf.keras.callbacks.ModelCheckpoint(address + \"my_keras_model.h5\"),\n",
    "    tf.keras.callbacks.EarlyStopping(patience=5, monitor='loss'),\n",
    "    # Write TensorBoard logs to `./logs` directory\n",
    "    tf.keras.callbacks.TensorBoard(log_dir=address)\n",
    "]\n",
    "model.fit_generator(SYNTHIA_train, steps_per_epoch=train_step, epochs=1, callbacks=callbacks, \n",
    "                    validation_data=SYNTHIA_validation, validation_steps=validation_steps)"
   ]
  },
  {
   "cell_type": "markdown",
   "metadata": {},
   "source": [
    "# Evaluatation and Prediction"
   ]
  },
  {
   "cell_type": "code",
   "execution_count": null,
   "metadata": {},
   "outputs": [],
   "source": [
    "preview = iter(SYNTHIA_tset)\n",
    "a,b=next(preview)\n",
    "model.evaluate(a,b)"
   ]
  },
  {
   "cell_type": "code",
   "execution_count": null,
   "metadata": {},
   "outputs": [],
   "source": [
    "c=model.predict(a,steps=1)"
   ]
  },
  {
   "cell_type": "code",
   "execution_count": null,
   "metadata": {},
   "outputs": [],
   "source": [
    "d = np.ndarray(shape=c.shape[1:3])\n",
    "for i in range(c.shape[1]):\n",
    "    for j in range(c.shape[2]):\n",
    "        d[i, j] = c[0, i, j].argmax()"
   ]
  },
  {
   "cell_type": "code",
   "execution_count": null,
   "metadata": {},
   "outputs": [],
   "source": [
    "i=2\n",
    "plt.figure(figsize=(30,10))\n",
    "plt.subplot(1,3,1)\n",
    "plt.imshow(a[0,:,:])\n",
    "plt.subplot(1,3,2)\n",
    "plt.imshow(b[0,:,:,0]==i)\n",
    "plt.subplot(1,3,3)\n",
    "plt.imshow(c[0,:,:,i])"
   ]
  },
  {
   "cell_type": "code",
   "execution_count": null,
   "metadata": {},
   "outputs": [],
   "source": [
    "i=3\n",
    "plt.figure(figsize=(30,10))\n",
    "plt.subplot(1,3,1)\n",
    "plt.imshow(a[0,:,:])\n",
    "plt.subplot(1,3,2)\n",
    "plt.imshow(b[0,:,:,0])\n",
    "plt.subplot(1,3,3)\n",
    "plt.imshow(d)"
   ]
  }
 ],
 "metadata": {
  "kernelspec": {
   "display_name": "Python 3",
   "language": "python",
   "name": "python3"
  },
  "language_info": {
   "codemirror_mode": {
    "name": "ipython",
    "version": 3
   },
   "file_extension": ".py",
   "mimetype": "text/x-python",
   "name": "python",
   "nbconvert_exporter": "python",
   "pygments_lexer": "ipython3",
   "version": "3.6.6"
  }
 },
 "nbformat": 4,
 "nbformat_minor": 2
}
